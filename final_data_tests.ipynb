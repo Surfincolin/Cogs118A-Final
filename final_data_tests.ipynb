{
 "cells": [
  {
   "cell_type": "code",
   "execution_count": 1,
   "metadata": {},
   "outputs": [],
   "source": [
    "%config InlineBackend.figure_format = 'retina'\n",
    "\n",
    "import numpy as np\n",
    "import pandas as pd\n",
    "import matplotlib.pyplot as plt\n",
    "import itertools\n",
    "\n",
    "\n",
    "import seaborn as sns\n",
    "\n",
    "from sklearn.compose import ColumnTransformer\n",
    "from sklearn.ensemble import RandomForestClassifier\n",
    "from sklearn.svm import SVC\n",
    "from sklearn.model_selection import GridSearchCV\n",
    "from sklearn.model_selection import KFold\n",
    "from sklearn.model_selection import cross_val_score\n",
    "from sklearn import preprocessing\n",
    "from sklearn.metrics import mean_squared_error\n",
    "from sklearn.metrics import accuracy_score\n",
    "\n",
    "from sklearn.pipeline import make_pipeline\n",
    "\n",
    "# from sklearn.preprocessing import PolynomialFeatures\n",
    "# from sklearn.linear_model import LinearRegression"
   ]
  },
  {
   "cell_type": "code",
   "execution_count": 2,
   "metadata": {},
   "outputs": [],
   "source": [
    "NUM_TRIALS = 3\n",
    "FOLDS = 5\n",
    "DATA_SIZE = 5000 #5000"
   ]
  },
  {
   "cell_type": "code",
   "execution_count": 3,
   "metadata": {},
   "outputs": [],
   "source": [
    "adults = pd.read_csv('data/adults/adult.data', header=None)\n",
    "\n",
    "adults.columns = ['age', 'workclass', 'fnlwgt', 'education', 'education_num', 'marital_status', 'occupation', 'relationship', 'race', 'sex', 'capital_gain', 'capital_loss', 'hours_per_week', 'native_country', '50k_plus']\n",
    "\n",
    "# adults"
   ]
  },
  {
   "cell_type": "code",
   "execution_count": 4,
   "metadata": {},
   "outputs": [],
   "source": [
    "adults['sex'] = (adults['sex'] == 'Male').astype(int)\n",
    "adults.rename(columns={'sex':'male'}, inplace=True)\n",
    "\n",
    "adults['50k_plus'] = (adults['50k_plus'] == ' >50K').astype(int)\n",
    "adults.rename(columns={'50k_plus':'y'}, inplace=True)\n",
    "\n",
    "adults = pd.get_dummies(adults, columns=['workclass', 'education', 'marital_status', 'occupation','relationship', 'race', 'native_country'])\n",
    "# adults"
   ]
  },
  {
   "cell_type": "code",
   "execution_count": 5,
   "metadata": {},
   "outputs": [
    {
     "data": {
      "text/plain": [
       "False"
      ]
     },
     "execution_count": 5,
     "metadata": {},
     "output_type": "execute_result"
    }
   ],
   "source": [
    "# adults.columns.values\n",
    "adults.isna().values.any() # OK!!"
   ]
  },
  {
   "cell_type": "code",
   "execution_count": 6,
   "metadata": {},
   "outputs": [],
   "source": [
    "# adults"
   ]
  },
  {
   "cell_type": "code",
   "execution_count": 7,
   "metadata": {},
   "outputs": [],
   "source": [
    "# continuous\n",
    "# cont_cols = np.asarray(['age', 'fnlwgt', 'education_num', 'capital_gain', 'capital_loss', 'hours_per_week'])\n",
    "cont_cols = ['age', 'fnlwgt', 'education_num', 'capital_gain', 'capital_loss', 'hours_per_week']\n",
    "\n",
    "# for col in cont_cols:\n",
    "#     plt.figure()\n",
    "#     plt.title(col)\n",
    "#     plt.hist(adults[col])\n",
    "    \n",
    "col_names = adults.columns\n",
    "\n",
    "mask = np.isin(col_names, cont_cols, invert=True)\n",
    "non_cont = col_names[mask]\n",
    "\n",
    "all_col = np.concatenate((cont_cols, non_cont))\n",
    "adults = adults[all_col]\n",
    "\n",
    "col_names = adults.columns\n",
    "\n",
    "features = adults[col_names]\n",
    "\n",
    "ct = ColumnTransformer([\n",
    "    ('adult_continuous', preprocessing.StandardScaler(), cont_cols)\n",
    "], remainder='passthrough')\n",
    "\n",
    "\n",
    "# scaler.mean_\n",
    "X_scaled = ct.fit_transform(features)\n",
    "adults_processed = pd.DataFrame(X_scaled, columns=col_names)\n",
    "# adults_processed\n"
   ]
  },
  {
   "cell_type": "code",
   "execution_count": 8,
   "metadata": {},
   "outputs": [
    {
     "name": "stdout",
     "output_type": "stream",
     "text": [
      "(5000, 107)\n",
      "(5000, 1)\n",
      "(27561, 107)\n",
      "(27561, 1)\n"
     ]
    },
    {
     "data": {
      "text/plain": [
       "(5000,)"
      ]
     },
     "execution_count": 8,
     "metadata": {},
     "output_type": "execute_result"
    }
   ],
   "source": [
    "adults_shuffle = adults_processed.sample(frac=1).reset_index(drop=True)\n",
    "adults_shuffle_y = pd.DataFrame(adults_shuffle['y'])\n",
    "adults_shuffle = adults_shuffle.drop('y', 1)\n",
    "\n",
    "adults_training = adults_shuffle.iloc[:DATA_SIZE,:]\n",
    "adults_training_y = adults_shuffle_y.iloc[:DATA_SIZE,:]\n",
    "adults_testing = adults_shuffle.iloc[DATA_SIZE:,:]\n",
    "adults_testing_y = adults_shuffle_y.iloc[DATA_SIZE:,:]\n",
    "\n",
    "print(adults_training.shape)\n",
    "print(adults_training_y.shape)\n",
    "print(adults_testing.shape)\n",
    "print(adults_testing_y.shape)\n",
    "adults_training_y['y'].shape"
   ]
  },
  {
   "cell_type": "code",
   "execution_count": 9,
   "metadata": {},
   "outputs": [
    {
     "name": "stdout",
     "output_type": "stream",
     "text": [
      ">acc=0.864, est=0.856, cfg={'C': 100, 'gamma': 0.001}\n",
      ">acc=0.868, est=0.853, cfg={'C': 1, 'gamma': 0.1}\n",
      ">acc=0.849, est=0.860, cfg={'C': 100, 'gamma': 0.001}\n",
      ">acc=0.858, est=0.854, cfg={'C': 100, 'gamma': 0.001}\n",
      ">acc=0.853, est=0.856, cfg={'C': 1, 'gamma': 0.1}\n",
      "Accuracy: 0.858 (0.007)\n",
      "0.868\n",
      "Training Master: {'C': 1, 'gamma': 0.1}\n",
      "Check Acc on Entire set\n",
      "Final Acc = 0.851 \n",
      "\n",
      ">acc=0.844, est=0.857, cfg={'C': 1, 'gamma': 0.1}\n",
      ">acc=0.856, est=0.861, cfg={'C': 1, 'gamma': 0.1}\n",
      ">acc=0.866, est=0.853, cfg={'C': 100, 'gamma': 0.001}\n",
      ">acc=0.850, est=0.855, cfg={'C': 1, 'gamma': 0.01}\n",
      ">acc=0.853, est=0.855, cfg={'C': 10, 'gamma': 0.01}\n",
      "Accuracy: 0.854 (0.007)\n",
      "0.866\n",
      "Training Master: {'C': 100, 'gamma': 0.001}\n",
      "Check Acc on Entire set\n",
      "Final Acc = 0.850 \n",
      "\n",
      ">acc=0.859, est=0.854, cfg={'C': 10, 'gamma': 0.01}\n",
      ">acc=0.845, est=0.858, cfg={'C': 100, 'gamma': 0.001}\n",
      ">acc=0.859, est=0.856, cfg={'C': 10, 'gamma': 0.01}\n",
      ">acc=0.849, est=0.858, cfg={'C': 10, 'gamma': 0.01}\n",
      ">acc=0.863, est=0.857, cfg={'C': 1, 'gamma': 0.1}\n",
      "Accuracy: 0.855 (0.007)\n",
      "0.863\n",
      "Training Master: {'C': 1, 'gamma': 0.1}\n",
      "Check Acc on Entire set\n",
      "Final Acc = 0.851 \n",
      "\n",
      "CPU times: user 40.9 s, sys: 645 ms, total: 41.6 s\n",
      "Wall time: 7min 44s\n"
     ]
    }
   ],
   "source": [
    "%%time\n",
    "\n",
    "features = adults_training.columns\n",
    "X = adults_training.loc[:, features].to_numpy()\n",
    "y = adults_training_y['y'].to_numpy()\n",
    "\n",
    "p_grid = {'C': [1,10,100,1000], 'gamma': [0.001,0.01,0.1,1.0]}\n",
    "\n",
    "\n",
    "\n",
    "non_nested_scores = np.zeros(NUM_TRIALS)\n",
    "nested_scores = np.zeros(NUM_TRIALS)\n",
    "\n",
    "for i in range(NUM_TRIALS):\n",
    "    # print('Trial {}...'.format(i))\n",
    "    trial_results = []\n",
    "    outer_cv = KFold(n_splits=FOLDS, shuffle=True, random_state=i)\n",
    "    best_p = []\n",
    "    best_score = []\n",
    "    \n",
    "    for tr_i, tst_i in outer_cv.split(X):\n",
    "        X_train, X_test = X[tr_i, :], X[tst_i, :]\n",
    "        y_train, y_test = y[tr_i], y[tst_i]\n",
    "\n",
    "        inner_cv = KFold(n_splits=FOLDS, shuffle=True, random_state=i)\n",
    "    \n",
    "        svm = SVC(kernel='rbf')\n",
    "\n",
    "        search = GridSearchCV(\n",
    "            estimator=svm,\n",
    "            param_grid=p_grid,\n",
    "            cv=inner_cv,\n",
    "            verbose=0,\n",
    "            scoring='accuracy',\n",
    "            n_jobs=-1,\n",
    "            refit=True\n",
    "        )\n",
    "        \n",
    "        result = search.fit(X_train, y_train)\n",
    "        \n",
    "        model = result.best_estimator_\n",
    "        \n",
    "        y_pred = model.predict(X_test)\n",
    "        \n",
    "        acc = accuracy_score(y_test, y_pred)\n",
    "        \n",
    "        best_p.append(result.best_params_)\n",
    "        best_score.append(acc)\n",
    "        trial_results.append(acc)\n",
    "        \n",
    "        print('>acc=%.3f, est=%.3f, cfg=%s' % (acc, result.best_score_, result.best_params_))\n",
    "        \n",
    "\n",
    "    print('Accuracy: %.3f (%.3f)' % (np.mean(trial_results), np.std(trial_results)))\n",
    "    \n",
    "    print(max(best_score))\n",
    "    run = best_score.index(max(best_score))\n",
    "    best_best_p = best_p[run]\n",
    "    \n",
    "    oo_svm = SVC()\n",
    "    print('Training Master: %s' % best_best_p)\n",
    "    oo_svm.set_params(**best_best_p)\n",
    "    oo_svm.fit(X,y)\n",
    "    \n",
    "    print('Check Acc on Entire set')\n",
    "    y_pred = oo_svm.predict(adults_testing.to_numpy())\n",
    "    acc = accuracy_score(adults_testing_y.to_numpy(), y_pred)\n",
    "    print('Final Acc = %.3f \\n' % acc)\n",
    "    "
   ]
  },
  {
   "cell_type": "code",
   "execution_count": 10,
   "metadata": {},
   "outputs": [],
   "source": [
    "#     non_nested_scores[i] = clf.best_score_\n",
    "#     print(clf.best_params_)\n",
    "#     print(clf.best_estimator_)\n",
    "#     best_model = clf.best_estimator_\n",
    "\n",
    "#     cv_score = cross_val_score(\n",
    "#         clf,\n",
    "#         X=X,\n",
    "#         y=y,\n",
    "#         cv=outer_cv,\n",
    "#         scoring='accuracy',\n",
    "#         n_jobs=-1\n",
    "#     )\n",
    "# #     nested_scores[i] = nested_score.mean()\n",
    "#     print(clf.best_params_)\n",
    "#     print('Accuracy: %.3f (%.3f)' % (np.mean(cv_score), np.std(cv_score)))\n",
    "    \n",
    "# score_difference = non_nested_scores - nested_scores\n",
    "\n",
    "# print(\"Average difference of {:6f} with std. dev. of {:6f}.\"\n",
    "#       .format(score_difference.mean(), score_difference.std()))\n",
    "\n",
    "# plt.figure()\n",
    "# plt.subplot(211)\n",
    "# non_nested_scores_line, = plt.plot(non_nested_scores, color='r')\n",
    "# nested_line, = plt.plot(nested_scores, color='b')\n",
    "# plt.ylabel(\"score\", fontsize=\"14\")\n",
    "# plt.legend([non_nested_scores_line, nested_line],\n",
    "#            [\"Non-Nested CV\", \"Nested CV\"],\n",
    "#            bbox_to_anchor=(1, 0, 0, .8)) #(0, .4, .5, 0))\n",
    "# plt.title(\"Non-Nested and Nested Cross Validation on Iris Dataset\",\n",
    "#           x=.5, y=1.1, fontsize=\"15\")\n",
    "\n",
    "# # Plot bar chart of the difference.\n",
    "# plt.subplot(212)\n",
    "# difference_plot = plt.bar(range(NUM_TRIALS), score_difference)\n",
    "# plt.xlabel(\"Individual Trial #\")\n",
    "# plt.legend([difference_plot],\n",
    "#            [\"Non-Nested CV - Nested CV Score\"],\n",
    "#            bbox_to_anchor=(1, 0, 0, .8))\n",
    "# plt.ylabel(\"score difference\", fontsize=\"14\")\n",
    "\n",
    "# plt.show()\n",
    "\n",
    "# for col in adults.columns:\n",
    "#     print(col)\n",
    "# adults.describe()"
   ]
  },
  {
   "cell_type": "code",
   "execution_count": 11,
   "metadata": {},
   "outputs": [],
   "source": [
    "# nested_scores"
   ]
  },
  {
   "cell_type": "code",
   "execution_count": 12,
   "metadata": {},
   "outputs": [],
   "source": [
    "# non_nested_scores"
   ]
  },
  {
   "cell_type": "code",
   "execution_count": 13,
   "metadata": {},
   "outputs": [],
   "source": [
    "# KFold(n_splits=FOLDS, shuffle=True, random_state=i)"
   ]
  },
  {
   "cell_type": "code",
   "execution_count": 14,
   "metadata": {},
   "outputs": [],
   "source": [
    "# class Set:\n",
    "#     def __init__(self, X, y):\n",
    "#         self.X = X\n",
    "#         self.y = y\n",
    "\n",
    "# def get_training_test_sets(data, training_size=1000, pred_col='y'):\n",
    "#     data_shuffled = data.sample(frac=1).reset_index(drop=True)\n",
    "#     data_shuffled_y = pd.DataFrame(data_shuffled[pred_col])\n",
    "#     data_shuffled_X = data_shuffled.drop(pred_col, 1)\n",
    "#     tr_X = data_shuffled_X.iloc[:training_size]\n",
    "#     tr_y = data_shuffled_y.iloc[:training_size]\n",
    "#     tst_X = data_shuffled_X.iloc[training_size:]\n",
    "#     tst_y = data_shuffled_y.iloc[training_size:]\n",
    "\n",
    "#     training = Set(tr_X, tr_y)\n",
    "#     testing = Set(tst_X, tst_y)\n",
    "    \n",
    "#     return training, testing\n",
    "\n",
    "\n",
    "# def get_folds(X, y, num_folds=5):\n",
    "#     n_per_fold = int(len(X)/num_folds)\n",
    "#     X_folds = []\n",
    "#     y_folds = []\n",
    "#     for i in range(num_folds):\n",
    "#         start = i*n_per_fold\n",
    "#         X_folds.append(X[start:start+n_per_fold])\n",
    "#         y_folds.append(y[start:start+n_per_fold])\n",
    "        \n",
    "#     return X_folds, y_folds\n",
    "\n",
    "# training_set, testing_set = get_training_test_sets(adults_processed, DATA_SIZE, pred_col='y')\n",
    "# print(adults_processed.shape)\n",
    "# print(training_set.X.shape, training_set.y.shape)\n",
    "# print(testing_set.X.shape, testing_set.y.shape)\n",
    "\n",
    "# x, y = get_folds(adults_training, adults_training_y, FOLDS)\n",
    "# print(len(x), len(y))\n",
    "# print(len(x[0]), len(y[0]))"
   ]
  },
  {
   "cell_type": "code",
   "execution_count": 15,
   "metadata": {},
   "outputs": [],
   "source": [
    "# def train_svm_model(X, y, C=1.0, gamma=0.0001):\n",
    "#     clf = SVC(C=C, kernel='rbf', gamma=gamma)\n",
    "#     clf.fit(X, y)\n",
    "#     return clf\n",
    "\n",
    "# def test_model(model, test_set):\n",
    "#     y_pred = model.predict(test_set.X)\n",
    "#     return accuracy_score(test_set.y.values.ravel(), y_pred)\n",
    "\n",
    "# params = {'C': [1,10,100,1000], 'gamma': [0.001,0.01,0.1,1.0]}\n",
    "\n",
    "# def create_grid_params(params_dict):\n",
    "#     all_params = [elements for i, elements in params_dict.items()]\n",
    "#     params_grid = list(itertools.product(*all_params))\n",
    "#     return params_grid\n",
    "    \n",
    "# p_grid = create_grid_params(params)\n",
    "# print(p_grid)\n",
    "# for p in p_grid:\n",
    "#     print('using params:', *p)\n",
    "#     model = train_svm_model(training_set.X, training_set.y.values.ravel(), *p)\n",
    "#     acc = test_model(model, testing_set)\n",
    "#     print(acc)\n"
   ]
  },
  {
   "cell_type": "code",
   "execution_count": null,
   "metadata": {},
   "outputs": [],
   "source": []
  }
 ],
 "metadata": {
  "kernelspec": {
   "display_name": "Python 3",
   "language": "python",
   "name": "python3"
  },
  "language_info": {
   "codemirror_mode": {
    "name": "ipython",
    "version": 3
   },
   "file_extension": ".py",
   "mimetype": "text/x-python",
   "name": "python",
   "nbconvert_exporter": "python",
   "pygments_lexer": "ipython3",
   "version": "3.8.3"
  }
 },
 "nbformat": 4,
 "nbformat_minor": 4
}
